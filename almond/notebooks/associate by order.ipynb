{
 "cells": [
  {
   "cell_type": "markdown",
   "metadata": {},
   "source": [
    "# Problem\n",
    "\n",
    "We are a manufactoring company that sell products with credits. For every sell is made a \"order\".\n",
    "Once a while the buyers \"paid\" the credit but is not always the total. We need to associate the pays with orders"
   ]
  },
  {
   "cell_type": "code",
   "execution_count": 1,
   "metadata": {},
   "outputs": [
    {
     "data": {
      "text/plain": [
       "defined \u001b[32mclass\u001b[39m \u001b[36mTransaction\u001b[39m"
      ]
     },
     "execution_count": 1,
     "metadata": {},
     "output_type": "execute_result"
    }
   ],
   "source": [
    "case class Transaction[I, P](id: I, price: P)"
   ]
  },
  {
   "cell_type": "code",
   "execution_count": 2,
   "metadata": {},
   "outputs": [
    {
     "data": {
      "text/plain": [
       "\u001b[36morders\u001b[39m: \u001b[32mcollection\u001b[39m.\u001b[32mimmutable\u001b[39m.\u001b[32mIndexedSeq\u001b[39m[\u001b[32mTransaction\u001b[39m[\u001b[32mInt\u001b[39m, \u001b[32mInt\u001b[39m]] = \u001b[33mVector\u001b[39m(\n",
       "  \u001b[33mTransaction\u001b[39m(\u001b[32m1\u001b[39m, \u001b[32m100\u001b[39m),\n",
       "  \u001b[33mTransaction\u001b[39m(\u001b[32m2\u001b[39m, \u001b[32m200\u001b[39m),\n",
       "  \u001b[33mTransaction\u001b[39m(\u001b[32m3\u001b[39m, \u001b[32m300\u001b[39m),\n",
       "  \u001b[33mTransaction\u001b[39m(\u001b[32m4\u001b[39m, \u001b[32m400\u001b[39m),\n",
       "  \u001b[33mTransaction\u001b[39m(\u001b[32m5\u001b[39m, \u001b[32m500\u001b[39m),\n",
       "  \u001b[33mTransaction\u001b[39m(\u001b[32m6\u001b[39m, \u001b[32m600\u001b[39m),\n",
       "  \u001b[33mTransaction\u001b[39m(\u001b[32m7\u001b[39m, \u001b[32m700\u001b[39m),\n",
       "  \u001b[33mTransaction\u001b[39m(\u001b[32m8\u001b[39m, \u001b[32m800\u001b[39m),\n",
       "  \u001b[33mTransaction\u001b[39m(\u001b[32m9\u001b[39m, \u001b[32m900\u001b[39m),\n",
       "  \u001b[33mTransaction\u001b[39m(\u001b[32m10\u001b[39m, \u001b[32m1000\u001b[39m)\n",
       ")\n",
       "\u001b[36mpays\u001b[39m: \u001b[32mcollection\u001b[39m.\u001b[32mimmutable\u001b[39m.\u001b[32mIndexedSeq\u001b[39m[\u001b[32mTransaction\u001b[39m[\u001b[32mInt\u001b[39m, \u001b[32mInt\u001b[39m]] = \u001b[33mVector\u001b[39m(\n",
       "  \u001b[33mTransaction\u001b[39m(\u001b[32m1\u001b[39m, \u001b[32m850\u001b[39m),\n",
       "  \u001b[33mTransaction\u001b[39m(\u001b[32m2\u001b[39m, \u001b[32m850\u001b[39m),\n",
       "  \u001b[33mTransaction\u001b[39m(\u001b[32m3\u001b[39m, \u001b[32m850\u001b[39m)\n",
       ")"
      ]
     },
     "execution_count": 2,
     "metadata": {},
     "output_type": "execute_result"
    }
   ],
   "source": [
    "val orders = (1 to 10).map(id => Transaction(id, 100 * id))\n",
    "val pays = (1 to 3).map(id => Transaction(id, 850))"
   ]
  },
  {
   "cell_type": "code",
   "execution_count": 3,
   "metadata": {},
   "outputs": [
    {
     "data": {
      "text/plain": [
       "defined \u001b[32mfunction\u001b[39m \u001b[36massociate\u001b[39m"
      ]
     },
     "execution_count": 3,
     "metadata": {},
     "output_type": "execute_result"
    }
   ],
   "source": [
    "def associate[I, P](\n",
    "    pay: Transaction[I, P],\n",
    "    orders: List[Transaction[I, P]],\n",
    "    accs: List[Transaction[I, P]] = List(),\n",
    "    debCalc: (P, List[P]) => P,\n",
    "    splitCalc: (Transaction[I, P], P) => (Transaction[I, P], Transaction[I, P]),\n",
    "    lessOp: (P, P) => P,\n",
    "    lowerOrEquals: (P, P) => Boolean,\n",
    "    zero: P,\n",
    "): (List[Transaction[I, P]], List[Transaction[I, P]]) = {\n",
    "    val deb = debCalc(pay.price, accs.map(_.price))\n",
    "    if(lowerOrEquals(deb, zero)){\n",
    "        (accs, orders)\n",
    "    } else {\n",
    "        val add = orders.head\n",
    "        if (lowerOrEquals(add.price, deb))\n",
    "            associate(\n",
    "                pay,\n",
    "                orders.tail,\n",
    "                add :: accs,\n",
    "                debCalc,\n",
    "                splitCalc,\n",
    "                lessOp,\n",
    "                lowerOrEquals,\n",
    "                zero\n",
    "            )\n",
    "        else {\n",
    "            val (order, acc) = splitCalc(add, deb)\n",
    "            associate(\n",
    "                pay,\n",
    "                order :: orders.tail,\n",
    "                acc :: accs,\n",
    "                debCalc,\n",
    "                splitCalc,\n",
    "                lessOp,\n",
    "                lowerOrEquals,\n",
    "                zero\n",
    "            )\n",
    "        }\n",
    "    }\n",
    "}"
   ]
  },
  {
   "cell_type": "code",
   "execution_count": 3,
   "metadata": {},
   "outputs": [
    {
     "name": "stderr",
     "output_type": "stream",
     "text": [
      "cmd3.sc:3: wrong number of type parameters for method map: [B, That](f: Int => B)(implicit bf: scala.collection.generic.CanBuildFrom[scala.collection.immutable.IndexedSeq[Int],B,That])That\n",
      "    orders = (1 until 21).map[Int](i => Transaction(i, 100)),\n",
      "                             ^cmd3.sc:5: missing parameter type\n",
      "    debCalc = (price, paid) => price - paid.sum,\n",
      "               ^cmd3.sc:5: missing parameter type\n",
      "    debCalc = (price, paid) => price - paid.sum,\n",
      "                      ^cmd3.sc:6: missing parameter type\n",
      "    splitCalc = (order, price) => (order.copy(price = price), order.copy(price = order.price - price)),\n",
      "                 ^cmd3.sc:6: missing parameter type\n",
      "    splitCalc = (order, price) => (order.copy(price = price), order.copy(price = order.price - price)),\n",
      "                        ^cmd3.sc:7: missing parameter type for expanded function ((x$1: <error>, x$2) => x$1.$minus(x$2))\n",
      "    lessOp = (_ - _),\n",
      "              ^cmd3.sc:7: missing parameter type for expanded function ((x$1: <error>, x$2: <error>) => x$1.$minus(x$2))\n",
      "    lessOp = (_ - _),\n",
      "                  ^cmd3.sc:8: missing parameter type for expanded function ((x$3: <error>, x$4) => x$3.$less$eq(x$4))\n",
      "    lowerOrEquals = (_ <= _),\n",
      "                     ^cmd3.sc:8: missing parameter type for expanded function ((x$3: <error>, x$4: <error>) => x$3.$less$eq(x$4))\n",
      "    lowerOrEquals = (_ <= _),\n",
      "                          ^Compilation Failed"
     ]
    },
    {
     "ename": "",
     "evalue": "",
     "output_type": "error",
     "traceback": [
      "Compilation Failed"
     ]
    }
   ],
   "source": [
    "associate[Int, Int](\n",
    "    pay = Transaction(1, 933),\n",
    "    orders = (1 until 21).map[Int](i => Transaction(i, 100)),\n",
    "    accs = List(),\n",
    "    debCalc = (price, paid) => price - paid.sum,\n",
    "    splitCalc = (order, price) => (order.copy(price = price), order.copy(price = order.price - price)),\n",
    "    lessOp = (_ - _),\n",
    "    lowerOrEquals = (_ <= _),\n",
    "    0\n",
    ")"
   ]
  },
  {
   "cell_type": "code",
   "execution_count": null,
   "metadata": {},
   "outputs": [],
   "source": [
    "def"
   ]
  }
 ],
 "metadata": {
  "kernelspec": {
   "display_name": "Scala 2.12",
   "language": "scala",
   "name": "scala212"
  },
  "language_info": {
   "codemirror_mode": "text/x-scala",
   "file_extension": ".sc",
   "mimetype": "text/x-scala",
   "name": "scala",
   "nbconvert_exporter": "script",
   "version": "2.12.12"
  }
 },
 "nbformat": 4,
 "nbformat_minor": 4
}
