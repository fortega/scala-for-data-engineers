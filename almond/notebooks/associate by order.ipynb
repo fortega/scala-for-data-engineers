{
 "cells": [
  {
   "cell_type": "markdown",
   "metadata": {},
   "source": [
    "# Problem\n",
    "\n",
    "We are a manufactoring company that sell products with credits. For every sell is made a \"order\".\n",
    "Once a while the buyers \"paid\" the credit but is not always the total. We need to associate the pays with orders"
   ]
  },
  {
   "cell_type": "markdown",
   "metadata": {},
   "source": [
    "# Solution"
   ]
  },
  {
   "cell_type": "code",
   "execution_count": 1,
   "metadata": {},
   "outputs": [
    {
     "data": {
      "text/plain": [
       "\u001b[32mimport \u001b[39m\u001b[36mscala.annotation.tailrec\u001b[39m"
      ]
     },
     "execution_count": 1,
     "metadata": {},
     "output_type": "execute_result"
    }
   ],
   "source": [
    "import scala.annotation.tailrec"
   ]
  },
  {
   "cell_type": "code",
   "execution_count": 2,
   "metadata": {},
   "outputs": [
    {
     "data": {
      "text/plain": [
       "defined \u001b[32mfunction\u001b[39m \u001b[36mgetMaxValueItems\u001b[39m"
      ]
     },
     "execution_count": 2,
     "metadata": {},
     "output_type": "execute_result"
    }
   ],
   "source": [
    "@tailrec\n",
    "def getMaxValueItems[T, V](\n",
    "    split: (T, V) => (T, T),\n",
    "    getValue: T => V,\n",
    "    minus: (V, V) => V,\n",
    "    lessZero: V => Boolean,\n",
    "    equalsZero: V => Boolean\n",
    ")(\n",
    "    remain: V,\n",
    "    items: List[T],\n",
    "    acum: List[T] = Nil,\n",
    "): (List[T], List[T]) = {\n",
    "    if(lessZero(remain) || equalsZero(remain) || items.isEmpty)\n",
    "        (acum, items)\n",
    "    else {\n",
    "        val newRemain = minus(remain, getValue(items.head))\n",
    "        if(lessZero(newRemain)) {\n",
    "            val (ac, it) = split(items.head, remain)\n",
    "            (ac :: acum, it :: items.tail)\n",
    "        } else getMaxValueItems(split, getValue, minus, lessZero, equalsZero)(\n",
    "            remain = newRemain,\n",
    "            items = items.tail,\n",
    "            acum = items.head :: acum,\n",
    "        )\n",
    "    }\n",
    "}"
   ]
  },
  {
   "cell_type": "code",
   "execution_count": 3,
   "metadata": {},
   "outputs": [
    {
     "data": {
      "text/plain": [
       "defined \u001b[32mfunction\u001b[39m \u001b[36massociate\u001b[39m"
      ]
     },
     "execution_count": 3,
     "metadata": {},
     "output_type": "execute_result"
    }
   ],
   "source": [
    "def associate[I, O, V](\n",
    "    getMaxValueItem: (V, List[I]) => (List[I], List[I]),\n",
    "    getValue: O => V\n",
    ")(\n",
    "    inputs: List[I],\n",
    "    outputs: List[O],\n",
    "): (List[(O, List[I])], List[I]) = {\n",
    "    @tailrec\n",
    "    def run[I, O, V](\n",
    "        getMaxValueItem: (V, List[I]) => (List[I], List[I]),\n",
    "        getValue: O => V\n",
    "    )(\n",
    "        inputs: List[I],\n",
    "        outputs: List[O],\n",
    "        acum: List[(O, List[I])]\n",
    "    ): (List[(O, List[I])], List[I]) =\n",
    "        if(outputs.isEmpty || inputs.isEmpty)\n",
    "            (acum, inputs)\n",
    "        else {\n",
    "            val (newAcum, newInputs) = getMaxValueItem(getValue(outputs.head), inputs)\n",
    "            run(getMaxValueItem, getValue)(newInputs, outputs.tail, (outputs.head, newAcum) :: acum)\n",
    "        }\n",
    "            \n",
    "    run(getMaxValueItem, getValue)(inputs, outputs, Nil)   \n",
    "}"
   ]
  },
  {
   "cell_type": "markdown",
   "metadata": {},
   "source": [
    "# Application to Buy type"
   ]
  },
  {
   "cell_type": "code",
   "execution_count": 4,
   "metadata": {},
   "outputs": [
    {
     "data": {
      "text/plain": [
       "defined \u001b[32mclass\u001b[39m \u001b[36mBuy\u001b[39m\n",
       "\u001b[36mgetMaxValueItemsBuy\u001b[39m: (\u001b[32mLong\u001b[39m, \u001b[32mList\u001b[39m[\u001b[32mBuy\u001b[39m]) => (\u001b[32mList\u001b[39m[\u001b[32mBuy\u001b[39m], \u001b[32mList\u001b[39m[\u001b[32mBuy\u001b[39m]) = ammonite.$sess.cmd3$Helper$$Lambda$2333/1228605271@4eb06616\n",
       "\u001b[36massociateBuy\u001b[39m: (\u001b[32mList\u001b[39m[\u001b[32mBuy\u001b[39m], \u001b[32mList\u001b[39m[\u001b[32mLong\u001b[39m]) => (\u001b[32mList\u001b[39m[(\u001b[32mLong\u001b[39m, \u001b[32mList\u001b[39m[\u001b[32mBuy\u001b[39m])], \u001b[32mList\u001b[39m[\u001b[32mBuy\u001b[39m]) = ammonite.$sess.cmd3$Helper$$Lambda$2334/45799268@20a34246"
      ]
     },
     "execution_count": 4,
     "metadata": {},
     "output_type": "execute_result"
    }
   ],
   "source": [
    "case class Buy(id: Int, price: Long)\n",
    "\n",
    "val getMaxValueItemsBuy = getMaxValueItems[Buy, Long](\n",
    "    (a, b) => (a.copy(price = b), a.copy(price = a.price - b)),\n",
    "    _.price,\n",
    "    (a, b) => a - b,\n",
    "    _ < 0,\n",
    "    _ == 0\n",
    ")(_, _)\n",
    "\n",
    "val associateBuy = associate[Buy, Long, Long](getMaxValueItemsBuy, i => i)(_, _)"
   ]
  },
  {
   "cell_type": "code",
   "execution_count": 5,
   "metadata": {},
   "outputs": [
    {
     "data": {
      "text/plain": [
       "\u001b[36morders\u001b[39m: \u001b[32mList\u001b[39m[\u001b[32mBuy\u001b[39m] = \u001b[33mList\u001b[39m(\n",
       "  \u001b[33mBuy\u001b[39m(\u001b[32m1\u001b[39m, \u001b[32m1000L\u001b[39m),\n",
       "  \u001b[33mBuy\u001b[39m(\u001b[32m2\u001b[39m, \u001b[32m2000L\u001b[39m),\n",
       "  \u001b[33mBuy\u001b[39m(\u001b[32m3\u001b[39m, \u001b[32m3000L\u001b[39m),\n",
       "  \u001b[33mBuy\u001b[39m(\u001b[32m4\u001b[39m, \u001b[32m4000L\u001b[39m),\n",
       "  \u001b[33mBuy\u001b[39m(\u001b[32m5\u001b[39m, \u001b[32m5000L\u001b[39m),\n",
       "  \u001b[33mBuy\u001b[39m(\u001b[32m6\u001b[39m, \u001b[32m6000L\u001b[39m),\n",
       "  \u001b[33mBuy\u001b[39m(\u001b[32m7\u001b[39m, \u001b[32m7000L\u001b[39m),\n",
       "  \u001b[33mBuy\u001b[39m(\u001b[32m8\u001b[39m, \u001b[32m8000L\u001b[39m),\n",
       "  \u001b[33mBuy\u001b[39m(\u001b[32m9\u001b[39m, \u001b[32m9000L\u001b[39m),\n",
       "  \u001b[33mBuy\u001b[39m(\u001b[32m10\u001b[39m, \u001b[32m10000L\u001b[39m),\n",
       "  \u001b[33mBuy\u001b[39m(\u001b[32m11\u001b[39m, \u001b[32m11000L\u001b[39m),\n",
       "  \u001b[33mBuy\u001b[39m(\u001b[32m12\u001b[39m, \u001b[32m12000L\u001b[39m),\n",
       "  \u001b[33mBuy\u001b[39m(\u001b[32m13\u001b[39m, \u001b[32m13000L\u001b[39m),\n",
       "  \u001b[33mBuy\u001b[39m(\u001b[32m14\u001b[39m, \u001b[32m14000L\u001b[39m),\n",
       "  \u001b[33mBuy\u001b[39m(\u001b[32m15\u001b[39m, \u001b[32m15000L\u001b[39m)\n",
       ")\n",
       "\u001b[36mswaps\u001b[39m: \u001b[32mList\u001b[39m[\u001b[32mLong\u001b[39m] = \u001b[33mList\u001b[39m(\u001b[32m1000L\u001b[39m, \u001b[32m10000L\u001b[39m, \u001b[32m100000L\u001b[39m)"
      ]
     },
     "execution_count": 5,
     "metadata": {},
     "output_type": "execute_result"
    }
   ],
   "source": [
    "val orders = (1 to 15).map(id => Buy(id, id * 1000)).toList\n",
    "val swaps = List(1000L, 10000l, 100000l)"
   ]
  },
  {
   "cell_type": "code",
   "execution_count": 6,
   "metadata": {},
   "outputs": [
    {
     "data": {
      "text/plain": [
       "\u001b[36mswapOrders\u001b[39m: (\u001b[32mList\u001b[39m[(\u001b[32mLong\u001b[39m, \u001b[32mList\u001b[39m[\u001b[32mBuy\u001b[39m])], \u001b[32mList\u001b[39m[\u001b[32mBuy\u001b[39m]) = (\n",
       "  \u001b[33mList\u001b[39m(\n",
       "    (\n",
       "      \u001b[32m100000L\u001b[39m,\n",
       "      \u001b[33mList\u001b[39m(\n",
       "        \u001b[33mBuy\u001b[39m(\u001b[32m15\u001b[39m, \u001b[32m6000L\u001b[39m),\n",
       "        \u001b[33mBuy\u001b[39m(\u001b[32m14\u001b[39m, \u001b[32m14000L\u001b[39m),\n",
       "        \u001b[33mBuy\u001b[39m(\u001b[32m13\u001b[39m, \u001b[32m13000L\u001b[39m),\n",
       "        \u001b[33mBuy\u001b[39m(\u001b[32m12\u001b[39m, \u001b[32m12000L\u001b[39m),\n",
       "        \u001b[33mBuy\u001b[39m(\u001b[32m11\u001b[39m, \u001b[32m11000L\u001b[39m),\n",
       "        \u001b[33mBuy\u001b[39m(\u001b[32m10\u001b[39m, \u001b[32m10000L\u001b[39m),\n",
       "        \u001b[33mBuy\u001b[39m(\u001b[32m9\u001b[39m, \u001b[32m9000L\u001b[39m),\n",
       "        \u001b[33mBuy\u001b[39m(\u001b[32m8\u001b[39m, \u001b[32m8000L\u001b[39m),\n",
       "        \u001b[33mBuy\u001b[39m(\u001b[32m7\u001b[39m, \u001b[32m7000L\u001b[39m),\n",
       "        \u001b[33mBuy\u001b[39m(\u001b[32m6\u001b[39m, \u001b[32m6000L\u001b[39m),\n",
       "        \u001b[33mBuy\u001b[39m(\u001b[32m5\u001b[39m, \u001b[32m4000L\u001b[39m)\n",
       "      )\n",
       "    ),\n",
       "    (\u001b[32m10000L\u001b[39m, \u001b[33mList\u001b[39m(\u001b[33mBuy\u001b[39m(\u001b[32m5\u001b[39m, \u001b[32m1000L\u001b[39m), \u001b[33mBuy\u001b[39m(\u001b[32m4\u001b[39m, \u001b[32m4000L\u001b[39m), \u001b[33mBuy\u001b[39m(\u001b[32m3\u001b[39m, \u001b[32m3000L\u001b[39m), \u001b[33mBuy\u001b[39m(\u001b[32m2\u001b[39m, \u001b[32m2000L\u001b[39m))),\n",
       "    (\u001b[32m1000L\u001b[39m, \u001b[33mList\u001b[39m(\u001b[33mBuy\u001b[39m(\u001b[32m1\u001b[39m, \u001b[32m1000L\u001b[39m)))\n",
       "  ),\n",
       "  \u001b[33mList\u001b[39m(\u001b[33mBuy\u001b[39m(\u001b[32m15\u001b[39m, \u001b[32m9000L\u001b[39m))\n",
       ")"
      ]
     },
     "execution_count": 6,
     "metadata": {},
     "output_type": "execute_result"
    }
   ],
   "source": [
    "val swapOrders = associateBuy(orders, swaps)"
   ]
  },
  {
   "cell_type": "code",
   "execution_count": null,
   "metadata": {},
   "outputs": [],
   "source": []
  }
 ],
 "metadata": {
  "kernelspec": {
   "display_name": "Scala 2.12",
   "language": "scala",
   "name": "scala212"
  },
  "language_info": {
   "codemirror_mode": "text/x-scala",
   "file_extension": ".sc",
   "mimetype": "text/x-scala",
   "name": "scala",
   "nbconvert_exporter": "script",
   "version": "2.12.12"
  }
 },
 "nbformat": 4,
 "nbformat_minor": 4
}
