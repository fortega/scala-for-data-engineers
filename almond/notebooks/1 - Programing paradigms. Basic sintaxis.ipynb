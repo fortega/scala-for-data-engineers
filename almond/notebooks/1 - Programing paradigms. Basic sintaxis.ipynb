{
 "cells": [
  {
   "cell_type": "markdown",
   "metadata": {},
   "source": [
    "# Scala for data engineers\n",
    "\n",
    "Welcome to scala for data engineers!\n",
    "\n",
    "This course aims to be an introductions for data engineers or software engineers to the Scala programming language. Having some knowledge in Java, Python or other programing language is required.\n",
    "The main goal of this course is to set the foundations to use scala in big data projects like Apache Spark and Akka Streams using a \"professional\" software engineer practices and cloud services. Think it like \"how the big companies solve big data problems\""
   ]
  },
  {
   "cell_type": "markdown",
   "metadata": {},
   "source": [
    "## Index\n",
    "\n",
    "- Intro: Finding the right tools for the job.\n",
    "- Most basic paradigm: Turing machine and assemble language.\n",
    "- Higher level programming and procedural paradigm.\n",
    "    - variables and constants\n",
    "    - basic types\n",
    "    - control structs\n",
    "    - loops\n",
    "    - arrays\n",
    "- Object oriented paradigm.\n",
    "    - classes and objects.\n",
    "    - polymorfism\n",
    "    - Generic types\n",
    "- Moore law, frecuency and multi-core processor units.\n",
    "    - Mutables states and concurrent programming.\n",
    "    - There's a better tool?\n",
    "- Functional programming\n",
    "    - Lambda calculus in the \"alonso church machine\".\n",
    "    - Limitations: only constants and pure functions."
   ]
  },
  {
   "cell_type": "code",
   "execution_count": null,
   "metadata": {},
   "outputs": [],
   "source": []
  }
 ],
 "metadata": {
  "kernelspec": {
   "display_name": "Scala 2.12",
   "language": "scala",
   "name": "scala212"
  },
  "language_info": {
   "codemirror_mode": "text/x-scala",
   "file_extension": ".sc",
   "mimetype": "text/x-scala",
   "name": "scala",
   "nbconvert_exporter": "script",
   "version": "2.12.12"
  }
 },
 "nbformat": 4,
 "nbformat_minor": 4
}
