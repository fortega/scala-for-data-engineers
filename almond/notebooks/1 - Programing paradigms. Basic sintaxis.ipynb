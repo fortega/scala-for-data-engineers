{
 "cells": [
  {
   "cell_type": "markdown",
   "metadata": {},
   "source": [
    "# Scala for data engineers\n",
    "\n",
    "Welcome to scala for data engineers!\n",
    "\n",
    "This course aims to be an introductions for data engineers or software engineers to the Scala programming language. Having some basic programming skills is required. Having Java experience makes things a lot easier because Scala compiles for the Java Virtual Machine aka JVM. Scala compiles into javascript and LLVM (like C) but its outside of the scope of this workshop.\n",
    "The main goal of this course is to set the foundations to use scala in big data projects like Apache Spark and Akka Streams using a \"professional\" software engineer practices and cloud services. Think it like \"how the big companies solve big data problems\"."
   ]
  },
  {
   "cell_type": "markdown",
   "metadata": {},
   "source": [
    "# Finding the right tools for the job\n",
    "Scala is the work of XXX XXXX computer scientist that works in the research of languages that embraces multiples paradims into and uniforma experience.\n",
    "As many other programmers, i came to scala seeking for a better tool to make UDF in Apache Spark (thank to the weird implementation of scala 2.0 in java). After a couples of minutes playing in the spark-shell i make it one of my dearest frinds.\n",
    "The big charm of scala (imho) are 2 things: the java ecosystem (library for everything!) and the functional language capabilities.\n",
    "Working in a functional way make a lot easier to think about distributed systems and realiability. The natural separation of the IO operations from computing, make things alot easier to test and debug. Only remember 1 time that i need the debugger in 6 years using scala (and was for oop code).\n",
    "\n",
    "## Learning functional programming pays the bills!\n",
    "Offen java software rewritted in scala shrinks being between 5 to 7 times"
   ]
  },
  {
   "cell_type": "markdown",
   "metadata": {},
   "source": [
    "# Most basic paradigm: Turing machine and assemble language.\n",
    "Personally i start my programming i high level language machines."
   ]
  },
  {
   "cell_type": "markdown",
   "metadata": {},
   "source": [
    "# Higher level programming and procedural paradigm.\n",
    "- variables and constants\n",
    "- basic types\n",
    "- control structs\n",
    "- loops\n",
    "- arrays"
   ]
  },
  {
   "cell_type": "markdown",
   "metadata": {},
   "source": [
    "# Object oriented paradigm.\n",
    "- classes and objects.\n",
    "- polymorfism\n",
    "- Generic types"
   ]
  },
  {
   "cell_type": "markdown",
   "metadata": {},
   "source": [
    "# Moore law, frecuency and multi-core processor units.\n",
    "- Mutables states and concurrent programming.\n",
    "- There's a better tool?"
   ]
  },
  {
   "cell_type": "markdown",
   "metadata": {},
   "source": [
    "# Functional programming\n",
    "- Lambda calculus in the \"alonso church machine\".\n",
    "- Limitations: only constants and pure functions."
   ]
  },
  {
   "cell_type": "code",
   "execution_count": null,
   "metadata": {},
   "outputs": [],
   "source": []
  }
 ],
 "metadata": {
  "kernelspec": {
   "display_name": "Scala 2.12",
   "language": "scala",
   "name": "scala212"
  },
  "language_info": {
   "codemirror_mode": "text/x-scala",
   "file_extension": ".sc",
   "mimetype": "text/x-scala",
   "name": "scala",
   "nbconvert_exporter": "script",
   "version": "2.12.12"
  }
 },
 "nbformat": 4,
 "nbformat_minor": 4
}
