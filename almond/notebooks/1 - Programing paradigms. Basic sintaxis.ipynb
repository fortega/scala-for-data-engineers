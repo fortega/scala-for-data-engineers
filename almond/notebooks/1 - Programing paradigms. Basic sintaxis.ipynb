{
 "cells": [
  {
   "cell_type": "markdown",
   "metadata": {},
   "source": [
    "# Scala for data engineers\n",
    "\n",
    "Welcome to scala for data engineers!\n",
    "\n",
    "This course aims to be an introductions for data engineers or software engineers to the Scala programming language. Having some basic programming skills is required. Having Java experience makes things a lot easier because Scala compiles for the Java Virtual Machine aka JVM. Scala compiles into javascript and LLVM (like C) but its outside of the scope of this workshop.\n",
    "The main goal of this course is to set the foundations to use scala in big data projects like Apache Spark and Akka Streams using a \"professional\" software engineer practices and cloud services. Think it like \"how the big companies solve big data problems\".\n",
    "\n",
    "# Finding the right tools for the job\n",
    "\n",
    "Scala is the work of XXX XXXX computer scientist that works in the research of languages that embraces multiples paradims into and uniforma experience.\n",
    "As many other programmers, i came to scala seeking for a better tool to make UDF in Apache Spark (thank to the weird implementation of scala 2.0 in java). After a couples of minutes playing in the spark-shell i make it one of my dearest frinds.\n",
    "The big charm of scala (imho) are 2 things: the java ecosystem (library for everything!) and the functional language capabilities.\n",
    "Working in a functional way make a lot easier to think about distributed systems and realiability. The natural separation of the IO operations from computing, make things alot easier to test and debug. Only remember 1 time that i need the debugger in 6 years using scala (and was for oop code).\n",
    "\n",
    "\n",
    "## Learning functional programming pays the bills!\n",
    "\n",
    "Offen java software rewritted in scala shrinks being between 5 to 7 times"
   ]
  },
  {
   "cell_type": "markdown",
   "metadata": {},
   "source": [
    "# Most basic paradigm: Turing machine and assemble language.\n",
    "\n",
    "![turing machine](turing-machine.jpg)\n",
    "\n",
    "[Mike Davey turing machine](https://spectrum.ieee.org/032610-diy-turing-machine)"
   ]
  },
  {
   "cell_type": "markdown",
   "metadata": {},
   "source": [
    "# Higher level programming and procedural paradigm.\n",
    "- variables and constants\n",
    "- control structs\n",
    "- loops\n",
    "- arrays\n",
    "- procedure (functions)"
   ]
  },
  {
   "cell_type": "code",
   "execution_count": 1,
   "metadata": {},
   "outputs": [
    {
     "data": {
      "text/html": [
       "<div class=\"jp-RenderedText\">\n",
       "<pre><code><span style=\"color: rgb(0, 187, 187)\"><span class=\"ansi-cyan-fg\">age</span></span>: <span style=\"color: rgb(0, 187, 0)\"><span class=\"ansi-green-fg\">Int</span></span> = <span style=\"color: rgb(0, 187, 0)\"><span class=\"ansi-green-fg\">10</span></span>\n",
       "<span style=\"color: rgb(0, 187, 187)\"><span class=\"ansi-cyan-fg\">name</span></span>: <span style=\"color: rgb(0, 187, 0)\"><span class=\"ansi-green-fg\">String</span></span> = <span style=\"color: rgb(0, 187, 0)\"><span class=\"ansi-green-fg\">&quot;Onka perrito&quot;</span></span>\n",
       "<span style=\"color: rgb(0, 187, 187)\"><span class=\"ansi-cyan-fg\">nameLength</span></span>: <span style=\"color: rgb(0, 187, 0)\"><span class=\"ansi-green-fg\">Int</span></span> = <span style=\"color: rgb(0, 187, 0)\"><span class=\"ansi-green-fg\">12</span></span>\n",
       "<span style=\"color: rgb(0, 187, 187)\"><span class=\"ansi-cyan-fg\">tailSize</span></span>: <span style=\"color: rgb(0, 187, 0)\"><span class=\"ansi-green-fg\">Double</span></span> = <span style=\"color: rgb(0, 187, 0)\"><span class=\"ansi-green-fg\">0.3</span></span></code></pre>\n",
       "</div>"
      ],
      "text/plain": [
       "\u001b[36mage\u001b[39m: \u001b[32mInt\u001b[39m = \u001b[32m10\u001b[39m\n",
       "\u001b[36mname\u001b[39m: \u001b[32mString\u001b[39m = \u001b[32m\"Onka perrito\"\u001b[39m\n",
       "\u001b[36mnameLength\u001b[39m: \u001b[32mInt\u001b[39m = \u001b[32m12\u001b[39m\n",
       "\u001b[36mtailSize\u001b[39m: \u001b[32mDouble\u001b[39m = \u001b[32m0.3\u001b[39m"
      ]
     },
     "metadata": {},
     "output_type": "display_data"
    }
   ],
   "source": [
    "// Variables and constants\n",
    "\n",
    "val age = 10 // this is a constant Int\n",
    "\n",
    "var name = \"Onka\" // this is a variable String\n",
    "name += \" perrito\" // we mutate things!\n",
    "\n",
    "val nameLength = name.length // everything is and object!\n",
    "\n",
    "val tailSize: Double = 0.3 // we can specify the types"
   ]
  },
  {
   "cell_type": "code",
   "execution_count": 2,
   "metadata": {},
   "outputs": [
    {
     "data": {
      "text/html": [
       "<div class=\"jp-RenderedText\">\n",
       "<pre><code><span style=\"color: rgb(0, 187, 187)\"><span class=\"ansi-cyan-fg\">tail2</span></span>: <span style=\"color: rgb(0, 187, 0)\"><span class=\"ansi-green-fg\">String</span></span> = <span style=\"color: rgb(0, 187, 0)\"><span class=\"ansi-green-fg\">&quot;long&quot;</span></span>\n",
       "<span style=\"color: rgb(0, 187, 187)\"><span class=\"ansi-cyan-fg\">tail3</span></span>: <span style=\"color: rgb(0, 187, 0)\"><span class=\"ansi-green-fg\">String</span></span> = <span style=\"color: rgb(0, 187, 0)\"><span class=\"ansi-green-fg\">&quot;long&quot;</span></span></code></pre>\n",
       "</div>"
      ],
      "text/plain": [
       "\u001b[36mtail2\u001b[39m: \u001b[32mString\u001b[39m = \u001b[32m\"long\"\u001b[39m\n",
       "\u001b[36mtail3\u001b[39m: \u001b[32mString\u001b[39m = \u001b[32m\"long\"\u001b[39m"
      ]
     },
     "metadata": {},
     "output_type": "display_data"
    }
   ],
   "source": [
    "// Control struct\n",
    "\n",
    "// c-like if\n",
    "var tail2: String = null\n",
    "if(tailSize >= 0.5) {\n",
    "    tail2 = \"short\"\n",
    "} else {\n",
    "    tail2 = \"long\"\n",
    "}\n",
    "// if is an expression, not and statement.\n",
    "// Scala doesnt care about identation. {} and () are optional (almost) everywhere\n",
    "val tail3 = if(tailSize >= 0.5) \"short\"\n",
    "    else if(tailSize >= 0.8)\n",
    "        \"regular\" else \"long\""
   ]
  },
  {
   "cell_type": "code",
   "execution_count": 3,
   "metadata": {},
   "outputs": [
    {
     "name": "stdout",
     "output_type": "stream",
     "text": [
      "while: 1\n",
      "while: 2\n",
      "do while: 1\n",
      "for-until: 0\n",
      "for-until: 1\n",
      "for-until: 2\n",
      "for-to: 1\n",
      "for-to: 2\n",
      "for-to: 3\n"
     ]
    },
    {
     "data": {
      "text/html": [
       "<div class=\"jp-RenderedText\">\n",
       "<pre><code><span style=\"color: rgb(0, 187, 187)\"><span class=\"ansi-cyan-fg\">i</span></span>: <span style=\"color: rgb(0, 187, 0)\"><span class=\"ansi-green-fg\">Int</span></span> = <span style=\"color: rgb(0, 187, 0)\"><span class=\"ansi-green-fg\">2</span></span></code></pre>\n",
       "</div>"
      ],
      "text/plain": [
       "\u001b[36mi\u001b[39m: \u001b[32mInt\u001b[39m = \u001b[32m2\u001b[39m"
      ]
     },
     "metadata": {},
     "output_type": "display_data"
    }
   ],
   "source": [
    "// loops\n",
    "\n",
    "var i = 1\n",
    "while(i < 3){\n",
    "    println(s\"while: $i\")\n",
    "    i += 1\n",
    "}\n",
    "\n",
    "i = 1\n",
    "do {\n",
    "    println(s\"do while: $i\")\n",
    "    i += 1\n",
    "} while(i < 1)\n",
    "\n",
    "for (i <- (0 until 3)){\n",
    "    println(s\"for-until: $i\")\n",
    "}\n",
    "\n",
    "for (i <- (1 to 3)){\n",
    "    println(s\"for-to: $i\")\n",
    "}\n"
   ]
  },
  {
   "cell_type": "code",
   "execution_count": 4,
   "metadata": {},
   "outputs": [
    {
     "name": "stdout",
     "output_type": "stream",
     "text": [
      "onka\n",
      "panda\n",
      "quimera\n"
     ]
    },
    {
     "data": {
      "text/plain": [
       "\u001b[36mdogs\u001b[39m: \u001b[32mArray\u001b[39m[\u001b[32mString\u001b[39m] = \u001b[33mArray\u001b[39m(\u001b[32m\"onka\"\u001b[39m, \u001b[32m\"panda\"\u001b[39m, \u001b[32m\"quimera\"\u001b[39m)"
      ]
     },
     "execution_count": 4,
     "metadata": {},
     "output_type": "execute_result"
    }
   ],
   "source": [
    "// Array\n",
    "\n",
    "val dogs: Array[String] = Array(\"onka\", \"panda\", \"quimera\")\n",
    "\n",
    "for(dog <- dogs){\n",
    "    println(dog)\n",
    "}"
   ]
  },
  {
   "cell_type": "code",
   "execution_count": 5,
   "metadata": {},
   "outputs": [
    {
     "name": "stdout",
     "output_type": "stream",
     "text": [
      "onka perrito\n",
      "panda perrito\n",
      "quimera perrito\n"
     ]
    }
   ],
   "source": [
    "dogs.map(_ + \" perrito\").foreach(println)"
   ]
  },
  {
   "cell_type": "code",
   "execution_count": 6,
   "metadata": {},
   "outputs": [
    {
     "name": "stdout",
     "output_type": "stream",
     "text": [
      "onka\n",
      "panda\n",
      "quimera\n"
     ]
    }
   ],
   "source": [
    "println(dogs.head)\n",
    "println(dogs(1))\n",
    "println(dogs(2))"
   ]
  },
  {
   "cell_type": "code",
   "execution_count": 7,
   "metadata": {},
   "outputs": [
    {
     "data": {
      "text/plain": [
       "defined \u001b[32mfunction\u001b[39m \u001b[36mtestFn\u001b[39m\n",
       "\u001b[36mres6_1\u001b[39m: \u001b[32mInt\u001b[39m = \u001b[32m5\u001b[39m"
      ]
     },
     "execution_count": 7,
     "metadata": {},
     "output_type": "execute_result"
    }
   ],
   "source": [
    "//procedure\n",
    "\n",
    "def testFn(v: String): Int = v.length\n",
    "testFn(\"sweet\")"
   ]
  },
  {
   "cell_type": "markdown",
   "metadata": {},
   "source": [
    "# Object oriented paradigm.\n",
    "- classes and objects.\n",
    "- polymorfism\n",
    "- Generic types"
   ]
  },
  {
   "cell_type": "code",
   "execution_count": 8,
   "metadata": {},
   "outputs": [
    {
     "name": "stdout",
     "output_type": "stream",
     "text": [
      "Guau! my name is onka\n"
     ]
    },
    {
     "data": {
      "text/plain": [
       "defined \u001b[32mclass\u001b[39m \u001b[36mDog\u001b[39m\n",
       "\u001b[36monkita\u001b[39m: \u001b[32mDog\u001b[39m = ammonite.$sess.cmd7$Helper$Dog@ffb1f40"
      ]
     },
     "execution_count": 8,
     "metadata": {},
     "output_type": "execute_result"
    }
   ],
   "source": [
    "//classes and objects\n",
    "class Dog(name: String, age: Int){\n",
    "    def bark() = {\n",
    "        println(s\"Guau! my name is $name\")\n",
    "    }\n",
    "}\n",
    "\n",
    "val onkita = new Dog(\"onka\", 10) // custom object\n",
    "onkita.bark"
   ]
  },
  {
   "cell_type": "code",
   "execution_count": 9,
   "metadata": {},
   "outputs": [
    {
     "name": "stdout",
     "output_type": "stream",
     "text": [
      "Cat: ok\n",
      "GrassHooper: jumping 0.0\n",
      "Cat: cats cant jump\n",
      "GrassHooper: jumping 1.0\n"
     ]
    },
    {
     "data": {
      "text/plain": [
       "defined \u001b[32mtrait\u001b[39m \u001b[36mJump\u001b[39m\n",
       "defined \u001b[32mclass\u001b[39m \u001b[36mGrassHooper\u001b[39m\n",
       "defined \u001b[32mclass\u001b[39m \u001b[36mCat\u001b[39m\n",
       "\u001b[36mjumpers\u001b[39m: \u001b[32mList\u001b[39m[\u001b[32mJump\u001b[39m] = \u001b[33mList\u001b[39m(\n",
       "  ammonite.$sess.cmd8$Helper$Cat@50eeedfc,\n",
       "  ammonite.$sess.cmd8$Helper$GrassHooper@401f501b\n",
       ")"
      ]
     },
     "execution_count": 9,
     "metadata": {},
     "output_type": "execute_result"
    }
   ],
   "source": [
    "trait Jump {\n",
    "    def jump(v: Double): Unit\n",
    "}\n",
    "\n",
    "class GrassHooper extends Jump {\n",
    "    def jump(v: Double) = {\n",
    "        println(s\"jumping $v\")\n",
    "    }\n",
    "}\n",
    "\n",
    "class Cat extends Jump {\n",
    "    def jump(v: Double) = v match {\n",
    "        case 0 => println(\"ok\")\n",
    "        case _ => println(\"cats cant jump\")\n",
    "    }\n",
    "}\n",
    "\n",
    "val jumpers = List(\n",
    "    new Cat,\n",
    "    new GrassHooper\n",
    ")\n",
    "\n",
    "List(0,1).foreach { v =>\n",
    "    jumpers.foreach { j =>\n",
    "        print(j.getClass.getSimpleName + \": \")\n",
    "        j.jump(v)\n",
    "    }\n",
    "}"
   ]
  },
  {
   "cell_type": "markdown",
   "metadata": {},
   "source": [
    "# Moore law, frecuency and multi-core processor units.\n",
    "- Mutables states and concurrent programming.\n",
    "- There's a better tool?\n",
    "![FP vs OOP](fp-vs-oop.jpg)"
   ]
  },
  {
   "cell_type": "markdown",
   "metadata": {},
   "source": [
    "# Functional programming\n",
    "- Lambda calculus in the \"alonso church machine\".\n",
    "- Limitations: only constants and pure functions."
   ]
  },
  {
   "cell_type": "code",
   "execution_count": null,
   "metadata": {},
   "outputs": [],
   "source": []
  }
 ],
 "metadata": {
  "kernelspec": {
   "display_name": "Scala 2.12",
   "language": "scala",
   "name": "scala212"
  },
  "language_info": {
   "codemirror_mode": "text/x-scala",
   "file_extension": ".sc",
   "mimetype": "text/x-scala",
   "name": "scala",
   "nbconvert_exporter": "script",
   "version": "2.12.12"
  }
 },
 "nbformat": 4,
 "nbformat_minor": 4
}
