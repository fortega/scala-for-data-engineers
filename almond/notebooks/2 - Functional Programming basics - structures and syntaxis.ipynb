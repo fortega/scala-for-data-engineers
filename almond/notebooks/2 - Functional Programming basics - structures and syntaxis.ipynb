{
 "cells": [
  {
   "cell_type": "markdown",
   "metadata": {},
   "source": [
    "# Functional programming\n",
    "Functional programming is a paradigm design to process lists and uses matematical functions to do that.\n",
    "If you come from procedural or object-oriented languages, came to mind limitations that are a little awkward at first and is totally normal. For me, embracing a \"functional\" style is process that takes times and effort: is like playing the same tetris game but with diffent figures!\n",
    "One of the nices things about scala is that you could walk at you own pace: it's no shame in keep using class, var and for!\n",
    "\n",
    "For me, the object-oriented paradign is like building little actors, teach them to do some cool tricks and coordinate them to play a show. In the other side, the functional paradigm is like building some \"chain production lines\" where the raw materials are transformed and combined to produce something: it's all about types and the relationships (or functions) between them.\n",
    "\n",
    "## Scala implementation of functional programming\n",
    "Scala is a \"impure\" functional language because support other paradigms. This implies that the \"limitations\" of the functional paradigm could be broken.\n",
    "\n",
    "## Strengths\n",
    "\n",
    "## Weakness"
   ]
  },
  {
   "cell_type": "code",
   "execution_count": 3,
   "metadata": {},
   "outputs": [
    {
     "data": {
      "text/plain": [
       "defined \u001b[32mclass\u001b[39m \u001b[36mDog\u001b[39m\n",
       "\u001b[36maki\u001b[39m: \u001b[32mDog\u001b[39m = \u001b[33mDog\u001b[39m(\u001b[32m\"kari\"\u001b[39m)\n",
       "\u001b[36makiFixed\u001b[39m: \u001b[32mDog\u001b[39m = \u001b[33mDog\u001b[39m(\u001b[32m\"KARI\"\u001b[39m)"
      ]
     },
     "execution_count": 3,
     "metadata": {},
     "output_type": "execute_result"
    }
   ],
   "source": [
    "// Structs -> case class\n",
    "\n",
    "case class Dog(owner: String) // Serializable and inmutable: the perfect weapon\n",
    "\n",
    "val aki = Dog(\"kari\")\n",
    "\n",
    "val akiFixed = aki.copy(aki.owner.toUpperCase) // copy is used instead of mutation"
   ]
  },
  {
   "cell_type": "code",
   "execution_count": null,
   "metadata": {},
   "outputs": [],
   "source": []
  }
 ],
 "metadata": {
  "kernelspec": {
   "display_name": "Scala 2.12",
   "language": "scala",
   "name": "scala212"
  },
  "language_info": {
   "codemirror_mode": "text/x-scala",
   "file_extension": ".sc",
   "mimetype": "text/x-scala",
   "name": "scala",
   "nbconvert_exporter": "script",
   "version": "2.12.12"
  }
 },
 "nbformat": 4,
 "nbformat_minor": 4
}
