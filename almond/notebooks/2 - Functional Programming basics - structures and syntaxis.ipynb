{
 "cells": [
  {
   "cell_type": "markdown",
   "metadata": {},
   "source": [
    "# Functional programming\n",
    "Functional programming is a paradigm design to process lists and uses matematical functions to do that.\n",
    "If you come from procedural or object-oriented languages, came to mind limitations that are a little awkward at first and is totally normal. For me, embracing a \"functional\" style is process that takes times and effort: is like playing the same tetris game but with diffent figures!\n",
    "One of the nices things about scala is that you could walk at you own pace: it's no shame in keep using class, var and for!\n",
    "\n",
    "For me, the object-oriented paradign is like building little actors, teach them to do some cool tricks and coordinate them to play a show. In the other side, the functional paradigm is like building some \"chain production lines\" where the raw materials are transformed and combined to produce something: it's all about types and the relationships (or functions) between them.\n",
    "\n",
    "## Scala implementation of functional programming\n",
    "\n",
    "Scala is a \"impure\" functional language because support other paradigms. This implies that the \"limitations\" of the functional paradigm could be broken.\n",
    "\n",
    "## Functional paradigm strengths\n",
    "\n",
    "- Simpler to read and reason about.\n",
    "- Errors are first class citizens.\n",
    "- When somethings breaks there almost no chances that the system will become \"stuck\" in a \"weird\" state.\n",
    "- Makes simple to reason about parallelism and distributed systems. Passing from single-thread to multi-thread processing just adding `.par`.\n",
    "- Testing is easier.\n",
    "\n",
    "## Function paradigm weakness\n",
    "\n",
    "- Is not optimize for \"turing\" machines. Usually ends up using more memory han other paradigms.\n",
    "- Almost all the terms comes from \"category theory\", so the vocabulary is challenging.\n",
    "- (A lot) slower that other paradigms in systems that use mutable states.\n",
    "- Its hard to \"re learn\" to program."
   ]
  },
  {
   "cell_type": "code",
   "execution_count": null,
   "metadata": {},
   "outputs": [],
   "source": [
    "// Structs -> case class\n",
    "\n",
    "// case clase [name](val1: Type1, val2: Type2)\n",
    "\n",
    "// it equivalent to java (in this leason)\n",
    "\n",
    "//class [Name] entends Serializable {\n",
    "//    private final Type1 val1;\n",
    "//    private final Type2 val2\n",
    "//    private [Name](Type1 val1, Type2 val2){\n",
    "//        this.val1 = val1;\n",
    "//        this.val2 = val2;\n",
    "//    }\n",
    "//    public Type1 getVal1(){\n",
    "//        return val1;\n",
    "//    }\n",
    "//    public Type2 getVal2(){\n",
    "//        return val2;\n",
    "//    }\n",
    "//    public static [Name] apply(Type1 val1, Type2 val2){\n",
    "//        return new [Name](val1, val2);\n",
    "//    }\n",
    "//    public [Name] copy(Type1 val1){\n",
    "//        return new [Name](val1, val2);\n",
    "//    }\n",
    "//    public [Name] copy(Type1 val1){\n",
    "//        return new [Name](val1, val2);\n",
    "//    }\n",
    "//}\n",
    "\n",
    "\n",
    "case class Dog(owner: String)\n",
    "val aki = Dog(owner = \"kari\")\n",
    "\n",
    "val akiFixed = aki.copy(owner = aki.owner.toUpperCase) // copy is used instead of mutation"
   ]
  },
  {
   "cell_type": "code",
   "execution_count": null,
   "metadata": {},
   "outputs": [],
   "source": [
    "// polymorfism\n",
    "type Km = Double\n",
    "type mt = Long\n",
    "\n",
    "sealed trait Trip[A]\n",
    "case class RoadTrip(distance: Km) extends Trip[Km]\n",
    "\n",
    "case class NoTrip extends Trip[Nothing]\n",
    "\n",
    "val input = PlaneTrip(100)\n",
    "\n",
    "val output = input match {\n",
    "    case PlaneTrip(value) => if (value < 200) s\"error: to close to be a plane ($value km)\"\n",
    "        else s\"sitback an chill for $value km\"\n",
    "    case RoadTrip(_) => \n",
    "    \"burning gas is fun\"\n",
    "    case NoTip => \"\"\n",
    "}"
   ]
  },
  {
   "cell_type": "code",
   "execution_count": null,
   "metadata": {},
   "outputs": [],
   "source": []
  },
  {
   "cell_type": "code",
   "execution_count": null,
   "metadata": {},
   "outputs": [],
   "source": [
    "Walktr"
   ]
  }
 ],
 "metadata": {
  "kernelspec": {
   "display_name": "Scala 2.12",
   "language": "scala",
   "name": "scala212"
  },
  "language_info": {
   "codemirror_mode": "text/x-scala",
   "file_extension": ".sc",
   "mimetype": "text/x-scala",
   "name": "scala",
   "nbconvert_exporter": "script",
   "version": "2.12.12"
  }
 },
 "nbformat": 4,
 "nbformat_minor": 4
}
