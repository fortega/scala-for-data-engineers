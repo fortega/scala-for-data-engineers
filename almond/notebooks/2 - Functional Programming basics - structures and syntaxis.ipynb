{
 "cells": [
  {
   "cell_type": "markdown",
   "metadata": {},
   "source": [
    "# Functional programming\n",
    "Functional programming is a paradigm design to process lists and uses matematical functions to do that.\n",
    "If you come from procedural or object-oriented languages, came to mind limitations that are a little awkward at first and is totally normal. For me, embracing a \"functional\" style is process that takes times and effort: is like playing the same tetris game but with diffent figures!\n",
    "One of the nices things about scala is that you could walk at you own pace: it's no shame in keep using class, var and for!\n",
    "\n",
    "For me, the object-oriented paradign is like building little actors, teach them to do some cool tricks and coordinate them to play a show. In the other side, the functional paradigm is like building some \"chain production lines\" where the raw materials are transformed and combined to produce something: it's all about types and the relationships (or functions) between them.\n",
    "\n",
    "## Scala implementation of functional programming\n",
    "\n",
    "Scala is a \"impure\" functional language because support other paradigms. This implies that the \"limitations\" of the functional paradigm could be broken.\n",
    "\n",
    "## Functional paradigm strengths\n",
    "\n",
    "- Simpler to read and reason about.\n",
    "- Errors are first class citizens.\n",
    "- When somethings breaks there almost no chances that the system will become \"stuck\" in a \"weird\" state.\n",
    "- Makes simple to reason about parallelism and distributed systems. Passing from single-thread to multi-thread processing just adding `.par`.\n",
    "- Testing is easier.\n",
    "\n",
    "## Function paradigm weakness\n",
    "\n",
    "- Is not optimize for \"turing\" machines. Usually ends up using more memory han other paradigms.\n",
    "- Almost all the terms comes from \"category theory\", so the vocabulary is challenging.\n",
    "- (A lot) slower that other paradigms in systems that use mutable states.\n",
    "- Its hard to \"re learn\" to program."
   ]
  },
  {
   "cell_type": "code",
   "execution_count": 1,
   "metadata": {},
   "outputs": [
    {
     "data": {
      "text/plain": [
       "defined \u001b[32mclass\u001b[39m \u001b[36mDog\u001b[39m\n",
       "\u001b[36maki\u001b[39m: \u001b[32mDog\u001b[39m = \u001b[33mDog\u001b[39m(\u001b[32m\"kari\"\u001b[39m)\n",
       "\u001b[36makiFixed\u001b[39m: \u001b[32mDog\u001b[39m = \u001b[33mDog\u001b[39m(\u001b[32m\"KARI\"\u001b[39m)"
      ]
     },
     "execution_count": 1,
     "metadata": {},
     "output_type": "execute_result"
    }
   ],
   "source": [
    "// Structs -> case class\n",
    "\n",
    "// case clase [name](val1: Type1, val2: Type2)\n",
    "\n",
    "// it equivalent to java (in this leason)\n",
    "\n",
    "//class [Name] entends Serializable {\n",
    "//    private final Type1 val1;\n",
    "//    private final Type2 val2\n",
    "//    private [Name](Type1 val1, Type2 val2){\n",
    "//        this.val1 = val1;\n",
    "//        this.val2 = val2;\n",
    "//    }\n",
    "//    public Type1 getVal1(){\n",
    "//        return val1;\n",
    "//    }\n",
    "//    public Type2 getVal2(){\n",
    "//        return val2;\n",
    "//    }\n",
    "//    public static [Name] apply(Type1 val1, Type2 val2){\n",
    "//        return new [Name](val1, val2);\n",
    "//    }\n",
    "//    public [Name] copy(Type1 val1){\n",
    "//        return new [Name](val1, val2);\n",
    "//    }\n",
    "//    public [Name] copy(Type1 val1){\n",
    "//        return new [Name](val1, val2);\n",
    "//    }\n",
    "//}\n",
    "\n",
    "\n",
    "case class Dog(owner: String)\n",
    "val aki = Dog(owner = \"kari\")\n",
    "\n",
    "val akiFixed = aki.copy(owner = aki.owner.toUpperCase) // copy is used instead of mutation"
   ]
  },
  {
   "cell_type": "code",
   "execution_count": 2,
   "metadata": {},
   "outputs": [
    {
     "data": {
      "text/plain": [
       "defined \u001b[32mtype\u001b[39m \u001b[36mCLP\u001b[39m\n",
       "defined \u001b[32mtrait\u001b[39m \u001b[36mFruit\u001b[39m\n",
       "defined \u001b[32mclass\u001b[39m \u001b[36mApple\u001b[39m\n",
       "defined \u001b[32mclass\u001b[39m \u001b[36mPinapple\u001b[39m\n",
       "defined \u001b[32mclass\u001b[39m \u001b[36mWatermelon\u001b[39m"
      ]
     },
     "execution_count": 2,
     "metadata": {},
     "output_type": "execute_result"
    }
   ],
   "source": [
    "// polymorfism\n",
    "type CLP = Long\n",
    "sealed trait Fruit { val price: CLP }\n",
    "\n",
    "case class Apple(price: CLP) extends Fruit\n",
    "case class Pinapple(price: CLP, leaves: Int) extends Fruit\n",
    "case class Watermelon(seeds: Long, price: CLP) extends Fruit\n"
   ]
  },
  {
   "cell_type": "code",
   "execution_count": 3,
   "metadata": {},
   "outputs": [
    {
     "data": {
      "text/plain": [
       "\u001b[36mfruits\u001b[39m: \u001b[32mList\u001b[39m[\u001b[32mProduct\u001b[39m with \u001b[32mSerializable\u001b[39m with \u001b[32mFruit\u001b[39m] = \u001b[33mList\u001b[39m(\n",
       "  \u001b[33mApple\u001b[39m(\u001b[32m1L\u001b[39m),\n",
       "  \u001b[33mWatermelon\u001b[39m(\u001b[32m2L\u001b[39m, \u001b[32m10L\u001b[39m),\n",
       "  \u001b[33mPinapple\u001b[39m(\u001b[32m3L\u001b[39m, \u001b[32m3\u001b[39m),\n",
       "  \u001b[33mPinapple\u001b[39m(\u001b[32m4L\u001b[39m, \u001b[32m4\u001b[39m),\n",
       "  \u001b[33mWatermelon\u001b[39m(\u001b[32m10000L\u001b[39m, \u001b[32m5L\u001b[39m)\n",
       ")"
      ]
     },
     "execution_count": 3,
     "metadata": {},
     "output_type": "execute_result"
    }
   ],
   "source": [
    "// Lists\n",
    "val fruits = List(\n",
    "    Apple(1),\n",
    "    Watermelon(2, 10),\n",
    "    Pinapple(3, 3),\n",
    "    Pinapple(4, 4),\n",
    "    Watermelon(10000, 5)\n",
    ")"
   ]
  },
  {
   "cell_type": "code",
   "execution_count": 4,
   "metadata": {},
   "outputs": [
    {
     "name": "stdout",
     "output_type": "stream",
     "text": [
      "regular watermelon\n"
     ]
    },
    {
     "data": {
      "text/plain": [
       "\u001b[36mfruit\u001b[39m: \u001b[32mProduct\u001b[39m with \u001b[32mSerializable\u001b[39m with \u001b[32mFruit\u001b[39m = \u001b[33mWatermelon\u001b[39m(\u001b[32m2L\u001b[39m, \u001b[32m10L\u001b[39m)\n",
       "\u001b[36mmessage\u001b[39m: \u001b[32mString\u001b[39m = \u001b[32m\"regular watermelon\"\u001b[39m"
      ]
     },
     "execution_count": 4,
     "metadata": {},
     "output_type": "execute_result"
    }
   ],
   "source": [
    "// pattern matching\n",
    "val fruit = fruits(1)\n",
    "\n",
    "val message = fruit match {\n",
    "    case Apple(price) => s\"Apple $price\"\n",
    "    case p: Pinapple => p.toString\n",
    "    case Watermelon(seeds, price) => if(seeds == 0) \"seedless watermelon\" else \"regular watermelon\"\n",
    "}\n",
    "println(message)"
   ]
  },
  {
   "cell_type": "code",
   "execution_count": 5,
   "metadata": {},
   "outputs": [
    {
     "data": {
      "text/plain": [
       "defined \u001b[32mfunction\u001b[39m \u001b[36mgetFruitPrice\u001b[39m\n",
       "\u001b[36mres4_1\u001b[39m: \u001b[32mList\u001b[39m[\u001b[32mCLP\u001b[39m] = \u001b[33mList\u001b[39m(\u001b[32m1L\u001b[39m, \u001b[32m10L\u001b[39m, \u001b[32m3L\u001b[39m, \u001b[32m4L\u001b[39m, \u001b[32m5L\u001b[39m)"
      ]
     },
     "execution_count": 5,
     "metadata": {},
     "output_type": "execute_result"
    }
   ],
   "source": [
    "// high order functions: map\n",
    "\n",
    "def getFruitPrice(fruit: Fruit): CLP = fruit.price\n",
    "\n",
    "fruits.map(getFruitPrice)"
   ]
  },
  {
   "cell_type": "code",
   "execution_count": 6,
   "metadata": {},
   "outputs": [
    {
     "data": {
      "text/plain": [
       "\u001b[36mres5\u001b[39m: \u001b[32mList\u001b[39m[\u001b[32mCLP\u001b[39m] = \u001b[33mList\u001b[39m(\u001b[32m1L\u001b[39m, \u001b[32m10L\u001b[39m, \u001b[32m3L\u001b[39m, \u001b[32m4L\u001b[39m, \u001b[32m5L\u001b[39m)"
      ]
     },
     "execution_count": 6,
     "metadata": {},
     "output_type": "execute_result"
    }
   ],
   "source": [
    "fruits.map( i => i.price )"
   ]
  },
  {
   "cell_type": "code",
   "execution_count": 7,
   "metadata": {},
   "outputs": [
    {
     "data": {
      "text/plain": [
       "\u001b[36mres6\u001b[39m: \u001b[32mList\u001b[39m[\u001b[32mCLP\u001b[39m] = \u001b[33mList\u001b[39m(\u001b[32m1L\u001b[39m, \u001b[32m10L\u001b[39m, \u001b[32m3L\u001b[39m, \u001b[32m4L\u001b[39m, \u001b[32m5L\u001b[39m)"
      ]
     },
     "execution_count": 7,
     "metadata": {},
     "output_type": "execute_result"
    }
   ],
   "source": [
    "fruits.map(_.price)"
   ]
  },
  {
   "cell_type": "code",
   "execution_count": null,
   "metadata": {},
   "outputs": [],
   "source": []
  }
 ],
 "metadata": {
  "kernelspec": {
   "display_name": "Scala 2.12",
   "language": "scala",
   "name": "scala212"
  },
  "language_info": {
   "codemirror_mode": "text/x-scala",
   "file_extension": ".sc",
   "mimetype": "text/x-scala",
   "name": "scala",
   "nbconvert_exporter": "script",
   "version": "2.12.12"
  }
 },
 "nbformat": 4,
 "nbformat_minor": 4
}
