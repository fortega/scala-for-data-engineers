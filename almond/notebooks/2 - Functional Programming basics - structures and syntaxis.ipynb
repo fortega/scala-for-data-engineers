{
 "cells": [
  {
   "cell_type": "markdown",
   "metadata": {},
   "source": [
    "# Functional programming\n",
    "Functional programming is a paradigm design to process lists and uses matematical functions to do that.\n",
    "If you come from procedural or object-oriented languages, came to mind limitations that are a little awkward at first and is totally normal. For me, embracing a \"functional\" style is process that takes times and effort: is like playing the same tetris game but with diffent figures!\n",
    "One of the nices things about scala is that you could walk at you own pace: it's no shame in keep using class, var and for!\n",
    "\n",
    "For me, the object-oriented paradign is like building little actors, teach them to do some cool tricks and coordinate them to play a show. In the other side, the functional paradigm is like building some \"chain production lines\" where the raw materials are transformed and combined to produce something: it's all about types and the relationships (or functions) between them.\n",
    "\n",
    "## Scala implementation of functional programming\n",
    "Scala is a \"impure\" functional language because support other paradigms. This implies that the \"limitations\" of the functional paradigm could be broken.\n",
    "\n",
    "## Strengths\n",
    "\n",
    "## Weakness"
   ]
  },
  {
   "cell_type": "code",
   "execution_count": 1,
   "metadata": {},
   "outputs": [
    {
     "data": {
      "text/plain": [
       "defined \u001b[32mclass\u001b[39m \u001b[36mDog\u001b[39m\n",
       "\u001b[36maki\u001b[39m: \u001b[32mDog\u001b[39m = \u001b[33mDog\u001b[39m(\u001b[32m\"kari\"\u001b[39m)\n",
       "\u001b[36makiFixed\u001b[39m: \u001b[32mDog\u001b[39m = \u001b[33mDog\u001b[39m(\u001b[32m\"KARI\"\u001b[39m)"
      ]
     },
     "execution_count": 1,
     "metadata": {},
     "output_type": "execute_result"
    }
   ],
   "source": [
    "// Structs -> case class\n",
    "\n",
    "// case clase [name](val1: Type1, val2: Type2)\n",
    "\n",
    "// it equivalent to java\n",
    "\n",
    "//class [Name] entends Serializable {\n",
    "//    private final Type1 val1;\n",
    "//    private final Type2 val2\n",
    "//    private [Name](Type1 val1, Type2 val2){\n",
    "//        this.val1 = val1;\n",
    "//        this.val2 = val2;\n",
    "//    }\n",
    "//    public Type1 getVal1(){\n",
    "//        return val1;\n",
    "//    }\n",
    "//    public Type2 getVal2(){\n",
    "//        return val2;\n",
    "//    }\n",
    "//    public static [Name] apply(Type1 val1, Type2 val2){\n",
    "//        return new Name(val1, val2);\n",
    "//}\n",
    "//}\n",
    "\n",
    "\n",
    "case class Dog(owner: String)\n",
    "val aki = Dog(\"kari\")\n",
    "\n",
    "val akiFixed = aki.copy(owner = aki.owner.toUpperCase) // copy is used instead of mutation\n",
    "\n"
   ]
  },
  {
   "cell_type": "code",
   "execution_count": null,
   "metadata": {},
   "outputs": [],
   "source": []
  }
 ],
 "metadata": {
  "kernelspec": {
   "display_name": "Scala 2.12",
   "language": "scala",
   "name": "scala212"
  },
  "language_info": {
   "codemirror_mode": "text/x-scala",
   "file_extension": ".sc",
   "mimetype": "text/x-scala",
   "name": "scala",
   "nbconvert_exporter": "script",
   "version": "2.12.12"
  }
 },
 "nbformat": 4,
 "nbformat_minor": 4
}
